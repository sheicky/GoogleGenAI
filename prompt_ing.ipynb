{
  "nbformat": 4,
  "nbformat_minor": 0,
  "metadata": {
    "colab": {
      "provenance": []
    },
    "kernelspec": {
      "name": "python3",
      "display_name": "Python 3"
    },
    "language_info": {
      "name": "python"
    }
  },
  "cells": [
    {
      "cell_type": "markdown",
      "source": [
        "Prompting\n"
      ],
      "metadata": {
        "id": "RdzEw3M4g87f"
      }
    },
    {
      "cell_type": "code",
      "execution_count": null,
      "metadata": {
        "id": "FWCMsRjNg5er"
      },
      "outputs": [],
      "source": [
        "# install google gen ai package\n",
        "! pip install -U -q \"google-genai==1.7.0\"\n"
      ]
    },
    {
      "cell_type": "markdown",
      "source": [
        "Imports"
      ],
      "metadata": {
        "id": "usBfSMfCj4FU"
      }
    },
    {
      "cell_type": "code",
      "source": [
        "from google import genai\n",
        "from google.genai import types\n",
        "from IPython.display import HTML, Markdown, display"
      ],
      "metadata": {
        "id": "fPrx_MUHj8SX"
      },
      "execution_count": null,
      "outputs": []
    },
    {
      "cell_type": "markdown",
      "source": [
        "Setting up a retry helper ( this will help minimize the costs)"
      ],
      "metadata": {
        "id": "noMOZEImkO4B"
      }
    },
    {
      "cell_type": "code",
      "source": [
        "from google.api_core import retry\n",
        "\n",
        "is_retriable = lambda e: (isinstance(e, genai.errors.APIError)) and e.code in {429, 503}\n",
        "\n",
        "genai.models.Models.generate_content = retry.Retry(\n",
        "    predicate=is_retriable)(genai.models.Models.generate_content)"
      ],
      "metadata": {
        "id": "5k7O0KezkW-V"
      },
      "execution_count": null,
      "outputs": []
    },
    {
      "cell_type": "markdown",
      "source": [
        "Setting up secret key"
      ],
      "metadata": {
        "id": "_vruZKdxntTg"
      }
    },
    {
      "cell_type": "code",
      "source": [
        "from google.colab import userdata\n",
        "userdata.get('GOOGLE_API_KEY')"
      ],
      "metadata": {
        "id": "-bAHeOucnwiO"
      },
      "execution_count": null,
      "outputs": []
    },
    {
      "cell_type": "markdown",
      "source": [
        "Running a prompt with the gemini-2.o-flash\n",
        "\n",
        "1.   Élément de liste\n",
        "2.   Élément de liste\n",
        "\n"
      ],
      "metadata": {
        "id": "utLjxlCsqkNP"
      }
    },
    {
      "cell_type": "code",
      "source": [
        "client = genai.Client(api_key=GOOGLE_API_KEY)\n",
        "\n",
        "# This is just a single turn chat\n",
        "response = client.models.generate_content(\n",
        "    model=\"gemini-2.0-flash\"\n",
        "    contents=\"Tell me a fun and interesting story and consider i am, a kid of 9 \"\n",
        ")\n",
        "\n",
        "print(response.text)"
      ],
      "metadata": {
        "id": "tyhn7OtWqsbF"
      },
      "execution_count": null,
      "outputs": []
    }
  ]
}