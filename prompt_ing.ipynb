{
  "nbformat": 4,
  "nbformat_minor": 0,
  "metadata": {
    "colab": {
      "provenance": [],
      "include_colab_link": true
    },
    "kernelspec": {
      "name": "python3",
      "display_name": "Python 3"
    },
    "language_info": {
      "name": "python"
    }
  },
  "cells": [
    {
      "cell_type": "markdown",
      "metadata": {
        "id": "view-in-github",
        "colab_type": "text"
      },
      "source": [
        "<a href=\"https://colab.research.google.com/github/sheicky/GoogleGenAI/blob/main/prompt_ing.ipynb\" target=\"_parent\"><img src=\"https://colab.research.google.com/assets/colab-badge.svg\" alt=\"Open In Colab\"/></a>"
      ]
    },
    {
      "cell_type": "markdown",
      "source": [
        "Prompting\n"
      ],
      "metadata": {
        "id": "RdzEw3M4g87f"
      }
    },
    {
      "cell_type": "code",
      "execution_count": 12,
      "metadata": {
        "id": "FWCMsRjNg5er"
      },
      "outputs": [],
      "source": [
        "# install google gen ai package\n",
        "! pip install -U -q \"google-genai==1.7.0\"\n"
      ]
    },
    {
      "cell_type": "markdown",
      "source": [
        "Imports"
      ],
      "metadata": {
        "id": "usBfSMfCj4FU"
      }
    },
    {
      "cell_type": "code",
      "source": [
        "from google import genai\n",
        "from google.genai import types\n",
        "from IPython.display import HTML, Markdown, display"
      ],
      "metadata": {
        "id": "fPrx_MUHj8SX"
      },
      "execution_count": 13,
      "outputs": []
    },
    {
      "cell_type": "markdown",
      "source": [
        "Setting up a retry helper ( this will help minimize the costs)"
      ],
      "metadata": {
        "id": "noMOZEImkO4B"
      }
    },
    {
      "cell_type": "code",
      "source": [
        "from google.api_core import retry\n",
        "\n",
        "is_retriable = lambda e: (isinstance(e, genai.errors.APIError)) and e.code in {429, 503}\n",
        "\n",
        "genai.models.Models.generate_content = retry.Retry(\n",
        "    predicate=is_retriable)(genai.models.Models.generate_content)"
      ],
      "metadata": {
        "id": "5k7O0KezkW-V"
      },
      "execution_count": 14,
      "outputs": []
    },
    {
      "cell_type": "markdown",
      "source": [
        "Setting up secret key"
      ],
      "metadata": {
        "id": "_vruZKdxntTg"
      }
    },
    {
      "cell_type": "code",
      "source": [
        "from google.colab import userdata\n"
      ],
      "metadata": {
        "id": "-bAHeOucnwiO"
      },
      "execution_count": 15,
      "outputs": []
    },
    {
      "cell_type": "markdown",
      "source": [
        "Running a prompt with the gemini-2.o-flash\n",
        "\n",
        "\n"
      ],
      "metadata": {
        "id": "utLjxlCsqkNP"
      }
    },
    {
      "cell_type": "code",
      "source": [
        "client = genai.Client(api_key=userdata.get('GOOGLE_API_KEY'))\n",
        "\n",
        "# This is just a single turn chat\n",
        "response = client.models.generate_content(\n",
        "    model=\"gemini-2.0-flash\",\n",
        "    contents=\"Tell me a fun and interesting story and consider i am, a kid of 9 \"\n",
        ")\n",
        "\n",
        "print(response.text)"
      ],
      "metadata": {
        "id": "tyhn7OtWqsbF",
        "colab": {
          "base_uri": "https://localhost:8080/"
        },
        "outputId": "feccfc19-8dae-4598-f9bd-5f5d76553693"
      },
      "execution_count": 16,
      "outputs": [
        {
          "output_type": "stream",
          "name": "stdout",
          "text": [
            "Okay, buckle up, because this is the story of Captain Calico, the silliest pirate who ever sailed the seven seas!\n",
            "\n",
            "Captain Calico wasn't your typical pirate. He didn't have a scary beard, a gruff voice, or even a real parrot! Instead, he had a fuzzy, bright pink toucan named Penelope who squawked out opera tunes at the most inconvenient times. And his \"treasure map\" was actually a recipe for the world's best blueberry pie.\n",
            "\n",
            "One sunny morning, Captain Calico and his crew (which consisted of a clumsy cook named Barnaby and a surprisingly smart goldfish named Finley who lived in a bowl tied to the mast) were sailing the Sparkling Sea in search of… well, nobody really knew. Captain Calico kept changing his mind. One minute it was the legendary Lost Lollipop of Lollypop Lagoon, the next it was a giant, singing seashell said to hold the secret to eternal bubblegum.\n",
            "\n",
            "Suddenly, Penelope squawked a particularly loud aria. \"Ariiiaaaa! Land Ho!\" she chirped, pointing with her ridiculously oversized beak.\n",
            "\n",
            "\"Land Ho?\" Captain Calico squeaked, adjusting his oversized hat (which kept falling over his eyes). \"Could it be… Skull Island?!\"\n",
            "\n",
            "Barnaby nervously gulped. Skull Island was known for its fearsome skeleton pirates who guarded a hoard of… well, mostly old socks and half-eaten sandwiches.\n",
            "\n",
            "As they approached the island, Finley, in his bowl, started bubbling furiously. \"Captain!\" he gurgled. \"I see something... It's...it's... a HUGE CAKE!\"\n",
            "\n",
            "And he was right! Looming on the beach was a cake so enormous it dwarfed even their rickety pirate ship, the \"Wobbly Walrus.\" It was frosted with swirls of rainbow icing and topped with a thousand cherries.\n",
            "\n",
            "\"A cake? On Skull Island?\" Captain Calico scratched his head, sending his hat askew again. \"This is most peculiar!\"\n",
            "\n",
            "Cautiously, they landed. As they approached the cake, a tiny, squeaky voice yelled, \"Halt! Who goes there?\"\n",
            "\n",
            "Out from behind a cherry popped a skeleton… wearing a baker's hat! He was no bigger than Captain Calico's hand!\n",
            "\n",
            "\"I am Captain Calico!\" Captain Calico announced, puffing out his chest. \"And we have come to… admire your… magnificent cake?\"\n",
            "\n",
            "The tiny skeleton, who introduced himself as Chef Bones, sighed. \"Magnificent? It's a disaster! I was trying to bake a birthday cake for my grumpy Uncle Skelly, the captain of the skeleton pirates, but I used too much baking powder. Now it's bigger than my whole house!\"\n",
            "\n",
            "He looked so upset, Captain Calico couldn't help but feel sorry for him. He knew a thing or two about baking mishaps.\n",
            "\n",
            "\"Well,\" Captain Calico said with a twinkle in his eye, \"Perhaps we can help! We may not be the best pirates, but we are excellent cake eaters!\"\n",
            "\n",
            "And so, Captain Calico, Barnaby, Finley, Penelope, and even Chef Bones began to devour the giant cake. They laughed and told jokes, getting covered in rainbow frosting. Even the normally grumpy Uncle Skelly peeked out from the jungle and chuckled at the sight.\n",
            "\n",
            "In the end, they couldn't finish the whole cake (it was REALLY big), but they made a huge dent in it. Uncle Skelly, softened by the shared cake and the laughter, declared Captain Calico an honorary member of the Skull Island Cake Crew.\n",
            "\n",
            "From that day on, Captain Calico continued his adventures, not searching for gold or jewels, but for the perfect ingredients for the next amazing baking adventure. And every year, he and his crew would return to Skull Island for Uncle Skelly's birthday, bringing with them a brand new, even sillier, cake!\n",
            "\n",
            "The End! (Want another story sometime?)\n",
            "\n"
          ]
        }
      ]
    },
    {
      "cell_type": "markdown",
      "source": [
        "Running a prompt : Starting a chat"
      ],
      "metadata": {
        "id": "rFyghbKhuG7E"
      }
    },
    {
      "cell_type": "code",
      "source": [
        "chat = client.chats.create(model=\"gemini-2.0-flash\", history=[])\n",
        "response = chat.send_message(\"Heyy my name is Sheick, what can you do for me ?\")\n",
        "print(response.text)\n",
        "response = chat.send_message(\"Telll me something about dinosaurs\")\n",
        "print(response.text)\n",
        "response = chat.send_message(\"Do you remember my name ?\")\n",
        "print(response.text)"
      ],
      "metadata": {
        "id": "Mpu5f8UYuK9X",
        "colab": {
          "base_uri": "https://localhost:8080/"
        },
        "outputId": "7600f37c-fff6-45c7-eea9-cb16ccf9b97d"
      },
      "execution_count": 18,
      "outputs": [
        {
          "output_type": "stream",
          "name": "stdout",
          "text": [
            "Hey Sheick! It's great to meet you. As a large language model, I can do a lot of things! Here are some examples:\n",
            "\n",
            "**Communication & Information:**\n",
            "\n",
            "*   **Answer your questions:** I can provide information on a wide variety of topics, from science and history to current events and pop culture. Just ask me anything!\n",
            "*   **Explain complex topics:** I can break down difficult concepts into simpler terms.\n",
            "*   **Generate different creative text formats:** This includes poems, code, scripts, musical pieces, email, letters, etc. I will try my best to fulfill all your requirements.\n",
            "*   **Summarize text:** I can condense long articles or documents into shorter, more manageable summaries.\n",
            "*   **Translate languages:** I can translate text from one language to another.\n",
            "*   **Write different kinds of content:** I can help you draft emails, write blog posts, create social media content, and more.\n",
            "\n",
            "**Assistance & Productivity:**\n",
            "\n",
            "*   **Brainstorm ideas:** Need help coming up with ideas for a project or a problem? I can help you brainstorm.\n",
            "*   **Help with writing and editing:** I can help you improve your writing by suggesting grammar and style improvements.\n",
            "*   **Provide definitions and explanations:** I can quickly define words and explain concepts.\n",
            "*   **Offer suggestions and recommendations:** Based on your interests, I can recommend books, movies, music, restaurants, and more.\n",
            "\n",
            "**Fun & Entertainment:**\n",
            "\n",
            "*   **Tell jokes and stories:** I can provide you with some lighthearted entertainment.\n",
            "*   **Play games:** I can play simple text-based games with you.\n",
            "*   **Create fictional scenarios:** If you're feeling creative, I can help you create fictional scenarios and stories.\n",
            "\n",
            "**Basically, I can help you with anything that involves understanding and generating text.**\n",
            "\n",
            "**To get started, tell me what you'd like me to do! For example, you could ask me:**\n",
            "\n",
            "*   \"What's the capital of France?\"\n",
            "*   \"Can you write a short poem about the ocean?\"\n",
            "*   \"Tell me about the history of the internet.\"\n",
            "*   \"What are some good recipes for chicken?\"\n",
            "*   \"Can you help me brainstorm ideas for a marketing campaign?\"\n",
            "\n",
            "I'm excited to see how I can assist you, Sheick! Let me know what you have in mind.\n",
            "\n",
            "Alright Sheick, here's something interesting about dinosaurs:\n",
            "\n",
            "**Did you know that birds are actually direct descendants of theropod dinosaurs?**\n",
            "\n",
            "Theropods were a group of carnivorous, bipedal dinosaurs that included famous species like Tyrannosaurus Rex and Velociraptor. Over millions of years, certain theropod lineages evolved smaller bodies, feathers, and eventually the ability to fly.\n",
            "\n",
            "**Here are some key points about this connection:**\n",
            "\n",
            "*   **Fossil Evidence:** Numerous fossil discoveries show a clear evolutionary progression from small, feathered theropods to early birds. These fossils have features that are a mix of dinosaur and bird characteristics.\n",
            "*   **Skeletal Similarities:** Birds and theropod dinosaurs share many skeletal similarities, including a wishbone (furcula), a three-fingered hand, and hollow bones.\n",
            "*   **Feathers:** Feathers are no longer considered a trait unique to birds. Many theropod dinosaurs had feathers, which likely served purposes like insulation, display, and eventually flight.\n",
            "*   **DNA Evidence:** While we can't extract DNA from dinosaurs, genetic studies of modern birds strongly support their dinosaurian ancestry.\n",
            "\n",
            "So, the next time you see a bird, remember that you're looking at a modern-day dinosaur! Pretty cool, right?\n",
            "\n",
            "Would you like to know anything else about dinosaurs? Maybe about a specific type of dinosaur or a particular period?\n",
            "\n",
            "Yes, Sheick, I remember your name. You told me it at the beginning of our conversation.\n",
            "\n"
          ]
        }
      ]
    },
    {
      "cell_type": "markdown",
      "source": [
        "Exploring the models on gemini"
      ],
      "metadata": {
        "id": "beN1kDXRwQ1l"
      }
    },
    {
      "cell_type": "code",
      "source": [
        "for model in client.models.list() :\n",
        "  print(model.name)"
      ],
      "metadata": {
        "id": "yVYzkDsJwTti",
        "colab": {
          "base_uri": "https://localhost:8080/"
        },
        "outputId": "cf814e96-0e6d-4854-9a20-6a8255b2e6a3"
      },
      "execution_count": 19,
      "outputs": [
        {
          "output_type": "stream",
          "name": "stdout",
          "text": [
            "models/chat-bison-001\n",
            "models/text-bison-001\n",
            "models/embedding-gecko-001\n",
            "models/gemini-1.0-pro-vision-latest\n",
            "models/gemini-pro-vision\n",
            "models/gemini-1.5-pro-latest\n",
            "models/gemini-1.5-pro-001\n",
            "models/gemini-1.5-pro-002\n",
            "models/gemini-1.5-pro\n",
            "models/gemini-1.5-flash-latest\n",
            "models/gemini-1.5-flash-001\n",
            "models/gemini-1.5-flash-001-tuning\n",
            "models/gemini-1.5-flash\n",
            "models/gemini-1.5-flash-002\n",
            "models/gemini-1.5-flash-8b\n",
            "models/gemini-1.5-flash-8b-001\n",
            "models/gemini-1.5-flash-8b-latest\n",
            "models/gemini-1.5-flash-8b-exp-0827\n",
            "models/gemini-1.5-flash-8b-exp-0924\n",
            "models/gemini-2.5-pro-exp-03-25\n",
            "models/gemini-2.0-flash-exp\n",
            "models/gemini-2.0-flash\n",
            "models/gemini-2.0-flash-001\n",
            "models/gemini-2.0-flash-exp-image-generation\n",
            "models/gemini-2.0-flash-lite-001\n",
            "models/gemini-2.0-flash-lite\n",
            "models/gemini-2.0-flash-lite-preview-02-05\n",
            "models/gemini-2.0-flash-lite-preview\n",
            "models/gemini-2.0-pro-exp\n",
            "models/gemini-2.0-pro-exp-02-05\n",
            "models/gemini-exp-1206\n",
            "models/gemini-2.0-flash-thinking-exp-01-21\n",
            "models/gemini-2.0-flash-thinking-exp\n",
            "models/gemini-2.0-flash-thinking-exp-1219\n",
            "models/learnlm-1.5-pro-experimental\n",
            "models/gemma-3-4b-it\n",
            "models/gemma-3-12b-it\n",
            "models/gemma-3-27b-it\n",
            "models/embedding-001\n",
            "models/text-embedding-004\n",
            "models/gemini-embedding-exp-03-07\n",
            "models/gemini-embedding-exp\n",
            "models/aqa\n",
            "models/imagen-3.0-generate-002\n"
          ]
        }
      ]
    },
    {
      "cell_type": "code",
      "source": [
        "from pprint import pprint\n",
        "for model in client.models.list() :\n",
        "  if model.name==\"models/gemini-2.0-flash\" :\n",
        "    pprint(model.to_json_dict())\n",
        "    break"
      ],
      "metadata": {
        "id": "Yw0XEzxDwhU9",
        "colab": {
          "base_uri": "https://localhost:8080/"
        },
        "outputId": "e6dd1b42-9acb-4f9f-ccd3-aa857e16afca"
      },
      "execution_count": 26,
      "outputs": [
        {
          "output_type": "stream",
          "name": "stdout",
          "text": [
            "{'description': 'Gemini 2.0 Flash',\n",
            " 'display_name': 'Gemini 2.0 Flash',\n",
            " 'input_token_limit': 1048576,\n",
            " 'name': 'models/gemini-2.0-flash',\n",
            " 'output_token_limit': 8192,\n",
            " 'supported_actions': ['generateContent', 'countTokens'],\n",
            " 'tuned_model_info': {},\n",
            " 'version': '2.0'}\n"
          ]
        }
      ]
    },
    {
      "cell_type": "markdown",
      "source": [
        "Exploring generation parameter"
      ],
      "metadata": {
        "id": "YcdLOS-3pszj"
      }
    },
    {
      "cell_type": "code",
      "source": [
        "from google.genai import types\n",
        "\n",
        "short_config = types.GenerateContentConfig(max_output_tokens=200)\n",
        "\n",
        "response = client.models.generate_content(\n",
        "    model='gemini-2.0-flash',\n",
        "    config=short_config,\n",
        "    contents='Write a 1000 word essay on the importance of olives in modern society.')\n",
        "\n",
        "print(response.text)"
      ],
      "metadata": {
        "colab": {
          "base_uri": "https://localhost:8080/"
        },
        "id": "1n73yuhBp3CG",
        "outputId": "6b3cf4d4-d24c-4423-ad23-4ece59771cee"
      },
      "execution_count": 27,
      "outputs": [
        {
          "output_type": "stream",
          "name": "stdout",
          "text": [
            "## The Humble Olive: A Global Cornerstone of Modern Society\n",
            "\n",
            "The olive, a small, unassuming fruit, might seem an unlikely candidate for a pivotal role in modern society. Yet, this ancient fruit, born from the gnarled branches of the olive tree (Olea europaea), has woven itself deeply into the fabric of our global culture. From its profound impact on nutrition and culinary practices to its contributions to healthcare, cosmetics, and even economic stability, the olive's importance extends far beyond its modest appearance. Its continued relevance is a testament to its versatility, nutritional benefits, and the enduring power of traditions that have embraced it for millennia.\n",
            "\n",
            "Perhaps the most obvious contribution of the olive lies in its culinary significance. Olive oil, extracted from the fruit, is a cornerstone of the Mediterranean diet, a dietary pattern lauded by scientists and healthcare professionals for its numerous health benefits. Rich in monounsaturated fats, particularly oleic acid, olive oil has been linked to reduced risk of heart disease, stroke\n"
          ]
        }
      ]
    },
    {
      "cell_type": "markdown",
      "source": [
        "Temperature"
      ],
      "metadata": {
        "id": "EY-SWycSqXfn"
      }
    },
    {
      "cell_type": "code",
      "source": [
        "high_temp_config = types.GenerateContentConfig(temperature=2.0)\n",
        "\n",
        "\n",
        "for _ in range(5):\n",
        "  response = client.models.generate_content(\n",
        "      model='gemini-2.0-flash',\n",
        "      config=high_temp_config,\n",
        "      contents='Pick a random colour... (respond in a single word)')\n",
        "\n",
        "  if response.text:\n",
        "    print(response.text, '-' * 25)"
      ],
      "metadata": {
        "colab": {
          "base_uri": "https://localhost:8080/"
        },
        "id": "n91pcG9GqZHr",
        "outputId": "77ea1010-85b3-4157-f395-0f2ddd0b403c"
      },
      "execution_count": 32,
      "outputs": [
        {
          "output_type": "stream",
          "name": "stdout",
          "text": [
            "Azure\n",
            " -------------------------\n",
            "Mauve\n",
            " -------------------------\n",
            "Turquoise\n",
            " -------------------------\n",
            "Purple\n",
            " -------------------------\n",
            "Teal\n",
            " -------------------------\n"
          ]
        }
      ]
    },
    {
      "cell_type": "code",
      "source": [
        "high_temp_config = types.GenerateContentConfig(temperature=0.0)\n",
        "\n",
        "\n",
        "for _ in range(5):\n",
        "  response = client.models.generate_content(\n",
        "      model='gemini-2.0-flash',\n",
        "      config=high_temp_config,\n",
        "      contents='Pick a random colour... (respond in a single word)')\n",
        "\n",
        "  if response.text:\n",
        "    print(response.text, '-' * 25)"
      ],
      "metadata": {
        "colab": {
          "base_uri": "https://localhost:8080/"
        },
        "id": "R9KCQDZQqpg2",
        "outputId": "72fc9883-429a-47d3-9c9c-a7571a819e53"
      },
      "execution_count": 33,
      "outputs": [
        {
          "output_type": "stream",
          "name": "stdout",
          "text": [
            "Azure\n",
            " -------------------------\n",
            "Azure\n",
            " -------------------------\n",
            "Azure\n",
            " -------------------------\n",
            "Azure\n",
            " -------------------------\n",
            "Azure\n",
            " -------------------------\n"
          ]
        }
      ]
    },
    {
      "cell_type": "markdown",
      "source": [
        "Top - K"
      ],
      "metadata": {
        "id": "b6OT8NvWrDE1"
      }
    },
    {
      "cell_type": "code",
      "source": [
        "model_config = types.GenerateContentConfig(\n",
        "    # These are the default values for gemini-2.0-flash.\n",
        "    temperature=1.0,\n",
        "    top_p=0.95,\n",
        ")\n",
        "\n",
        "story_prompt = \"You are a creative writer. Write a short story about a cat who goes on an adventure.\"\n",
        "response = client.models.generate_content(\n",
        "    model='gemini-2.0-flash',\n",
        "    config=model_config,\n",
        "    contents=story_prompt)\n",
        "\n",
        "print(response.text)"
      ],
      "metadata": {
        "colab": {
          "base_uri": "https://localhost:8080/"
        },
        "id": "BWS-_kwOrCui",
        "outputId": "234ea9ab-cc59-4daf-919b-454545732fe0"
      },
      "execution_count": 34,
      "outputs": [
        {
          "output_type": "stream",
          "name": "stdout",
          "text": [
            "Jasper, a ginger tabby with a penchant for naps and a tail twitch that betrayed his every emotion, was, by all accounts, a creature of habit. Every morning, the sunbeam on the windowsill warmed his fur just so, followed by precisely seven nibbles of salmon-flavored kibble, a fifteen-minute grooming session with Mrs. Higgins (his human), and then, of course, the all-important mid-morning nap. But today, the rhythm was off. A tantalizing scent, something wild and unfamiliar, tickled his nose as he stretched awake.\n",
            "\n",
            "It wasn't fish. It wasn't Mrs. Higgins' lavender soap. This was something…earthy, musky, and irresistibly compelling. Driven by an instinct older than his pampered existence, Jasper padded to the open window. He hesitated, peering down at the unfamiliar world beyond the garden fence. This was it. This was the adventure he didn't know he'd been waiting for.\n",
            "\n",
            "He leaped.\n",
            "\n",
            "The landing was less graceful than he'd imagined, more of a furry tumble into a patch of overgrown weeds. Undeterred, Jasper shook himself off and followed his nose. The scent led him through a labyrinth of overgrown bushes, past snoring hedgehogs and scolding robins, until he found himself at the edge of a vast, green expanse – a park, teeming with life.\n",
            "\n",
            "He navigated a bustling sidewalk, dodging the wheels of speeding scooters and the feet of oblivious humans. He encountered a grumpy bulldog, a fluffy poodle with a pink bow, and a gaggle of giggling children chasing pigeons. Each encounter was a new experience, a symphony of sights, sounds, and smells that overwhelmed and exhilarated him.\n",
            "\n",
            "The alluring scent intensified, leading him deeper into the park, towards a towering oak tree. At its base, nestled amongst the roots, was a small, furry creature: a field mouse. This wasn't just any mouse; it was the source of the captivating aroma. Jasper, forgetting his comfortable life and embracing his ancestral hunter, stalked forward, his tail twitching with anticipation.\n",
            "\n",
            "He crouched, ready to pounce.\n",
            "\n",
            "But then, he saw it. The mouse wasn't alone. Beside it, huddled close, were two tiny, blind pups, mewling softly. The mouse looked up at Jasper, its eyes filled with fear and desperation.\n",
            "\n",
            "Something shifted within Jasper. The hunter in him receded, replaced by something…else. He'd never felt this before. He backed away slowly, the thrill of the chase replaced by a strange sense of responsibility. He couldn't do it.\n",
            "\n",
            "Instead, he rubbed against the mouse's back, leaving a smudge of ginger fur as a silent offering of peace. He turned and, with a final glance at the mouse family, headed back the way he came.\n",
            "\n",
            "The journey back was less exciting, more thoughtful. He wasn't quite sure what had happened, but he knew he was different. He had faced the wild, tasted adventure, and discovered something unexpected within himself.\n",
            "\n",
            "He slipped back through the open window just as Mrs. Higgins called for him. He greeted her with an unusually affectionate head-butt, then curled up in his sunbeam.\n",
            "\n",
            "He still ate seven nibbles of salmon-flavored kibble the next morning. He still enjoyed his grooming session. But the world, and Jasper himself, was forever changed. He was still a pampered housecat, but now, he was also a cat who had known adventure, a cat who had chosen compassion over instinct, a cat who knew that the greatest discoveries weren't always found in the wildest places, but sometimes, within oneself.\n",
            "\n"
          ]
        }
      ]
    },
    {
      "cell_type": "markdown",
      "source": [
        "React"
      ],
      "metadata": {
        "id": "eWKZqpLSxodc"
      }
    },
    {
      "cell_type": "markdown",
      "source": [
        "https://github.com/google-gemini/cookbook/blob/main/examples/Search_Wikipedia_using_ReAct.ipynb"
      ],
      "metadata": {
        "id": "_x3nTTlcxs8j"
      }
    }
  ]
}